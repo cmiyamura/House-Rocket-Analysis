{
 "cells": [
  {
   "cell_type": "code",
   "execution_count": 3,
   "id": "0f9246c8",
   "metadata": {},
   "outputs": [],
   "source": [
    "# Import Libraries\n",
    "\n",
    "import pandas as pd\n",
    "import numpy as np\n",
    "import matplotlib.pyplot as plt\n",
    "import seaborn as sns"
   ]
  },
  {
   "cell_type": "code",
   "execution_count": 4,
   "id": "c16f0fca",
   "metadata": {},
   "outputs": [],
   "source": [
    "# Import Dataset\n",
    "\n",
    "data = pd.read_csv(\"C:/PythonFund/Cap08/Notebooks/kc_house_data.csv\")"
   ]
  },
  {
   "cell_type": "code",
   "execution_count": 5,
   "id": "e6c28392",
   "metadata": {},
   "outputs": [
    {
     "name": "stdout",
     "output_type": "stream",
     "text": [
      "(21613, 21)\n"
     ]
    }
   ],
   "source": [
    "# show the number of rows and columns in dataset\n",
    "\n",
    "print(data.shape)"
   ]
  },
  {
   "cell_type": "code",
   "execution_count": 5,
   "id": "910c7f1c",
   "metadata": {
    "scrolled": false
   },
   "outputs": [
    {
     "name": "stdout",
     "output_type": "stream",
     "text": [
      "Index(['id', 'date', 'price', 'bedrooms', 'bathrooms', 'sqft_living',\n",
      "       'sqft_lot', 'floors', 'waterfront', 'view', 'condition', 'grade',\n",
      "       'sqft_above', 'sqft_basement', 'yr_built', 'yr_renovated', 'zipcode',\n",
      "       'lat', 'long', 'sqft_living15', 'sqft_lot15'],\n",
      "      dtype='object')\n"
     ]
    }
   ],
   "source": [
    "# show the name of columns of dataset\n",
    "\n",
    "print(data.columns)"
   ]
  },
  {
   "cell_type": "code",
   "execution_count": null,
   "id": "3aa69253",
   "metadata": {},
   "outputs": [],
   "source": [
    "# show the first 5 lines of dataset\n",
    "\n",
    "print(data.head())"
   ]
  },
  {
   "cell_type": "code",
   "execution_count": 14,
   "id": "19aa6688",
   "metadata": {},
   "outputs": [
    {
     "name": "stdout",
     "output_type": "stream",
     "text": [
      "Mean: R$ 540088.14  Min: R$ 75000.0  Max: R$ 7700000.0  Std: R$ 367127.2\n"
     ]
    }
   ],
   "source": [
    "# Some basics statistics\n",
    "\n",
    "mean_price = round(data['price'].mean(),2)\n",
    "min_price = round(data['price'].min(),2)\n",
    "max_price = round(data['price'].max(),2)\n",
    "std_price = round(data['price'].std(),2)\n",
    "\n",
    "print(f'Mean: R$ {mean_price}  Min: R$ {min_price}  Max: R$ {max_price}  Std: R$ {std_price}')"
   ]
  },
  {
   "cell_type": "code",
   "execution_count": 10,
   "id": "980895c2",
   "metadata": {},
   "outputs": [
    {
     "data": {
      "text/plain": [
       "count    2.161300e+04\n",
       "mean     5.400881e+05\n",
       "std      3.671272e+05\n",
       "min      7.500000e+04\n",
       "25%      3.219500e+05\n",
       "50%      4.500000e+05\n",
       "75%      6.450000e+05\n",
       "max      7.700000e+06\n",
       "Name: price, dtype: float64"
      ]
     },
     "execution_count": 10,
     "metadata": {},
     "output_type": "execute_result"
    }
   ],
   "source": [
    "# Main statistics description\n",
    "\n",
    "data['price'].describe()"
   ]
  },
  {
   "cell_type": "code",
   "execution_count": 24,
   "id": "4bbaca43",
   "metadata": {},
   "outputs": [
    {
     "name": "stdout",
     "output_type": "stream",
     "text": [
      "               id      price\n",
      "7252   6762700020  7700000.0\n",
      "3914   9808700762  7062500.0\n",
      "9254   9208900037  6885000.0\n",
      "4411   2470100110  5570000.0\n",
      "1448   8907500070  5350000.0\n",
      "...           ...        ...\n",
      "8274   3883800011    82000.0\n",
      "16198  3028200080    81000.0\n",
      "465    8658300340    80000.0\n",
      "15293    40000362    78000.0\n",
      "1149   3421079032    75000.0\n",
      "\n",
      "[21613 rows x 2 columns]\n"
     ]
    }
   ],
   "source": [
    "# sort the dataset by the price column in descending order\n",
    "\n",
    "print(data[['id','price']].sort_values('price', ascending=False))"
   ]
  },
  {
   "cell_type": "code",
   "execution_count": 7,
   "id": "6e093da8",
   "metadata": {
    "scrolled": true
   },
   "outputs": [
    {
     "name": "stdout",
     "output_type": "stream",
     "text": [
      "               id  bedrooms\n",
      "15870  2402100895        33\n",
      "8757   1773100755        11\n",
      "15161  5566100170        10\n",
      "13314   627300145        10\n",
      "19254  8812401450        10\n",
      "...           ...       ...\n",
      "19452  3980300371         0\n",
      "8484   2310060040         0\n",
      "875    6306400140         0\n",
      "8477   2569500210         0\n",
      "9773   3374500520         0\n",
      "\n",
      "[21613 rows x 2 columns]\n"
     ]
    }
   ],
   "source": [
    "# Sort the dataset by the bedrooms column in descending order\n",
    "\n",
    "print(data[['id','bedrooms']].sort_values('bedrooms', ascending=False))"
   ]
  },
  {
   "cell_type": "code",
   "execution_count": 7,
   "id": "f2d0f12f",
   "metadata": {},
   "outputs": [
    {
     "name": "stdout",
     "output_type": "stream",
     "text": [
      "292.0\n"
     ]
    }
   ],
   "source": [
    "# Average size of all houses\n",
    "\n",
    "mean_size = round(data['sqft_basement'].mean(),0)\n",
    "print(mean_size)"
   ]
  },
  {
   "cell_type": "code",
   "execution_count": 12,
   "id": "d5d955d3",
   "metadata": {},
   "outputs": [
    {
     "name": "stdout",
     "output_type": "stream",
     "text": [
      "21613\n"
     ]
    }
   ],
   "source": [
    "# How many houses have 2 bedrooms\n",
    "\n",
    "two_bed = (data['bedrooms']==2).count()\n",
    "print(two_bed)"
   ]
  },
  {
   "cell_type": "code",
   "execution_count": 17,
   "id": "8309b78e",
   "metadata": {},
   "outputs": [
    {
     "name": "stdout",
     "output_type": "stream",
     "text": [
      "                   id   price  bedrooms  bathrooms  sqft_living  sqft_lot  \\\n",
      "id             1.0000 -0.0168    0.0013     0.0052      -0.0123   -0.1321   \n",
      "price         -0.0168  1.0000    0.3083     0.5251       0.7020    0.0897   \n",
      "bedrooms       0.0013  0.3083    1.0000     0.5159       0.5767    0.0317   \n",
      "bathrooms      0.0052  0.5251    0.5159     1.0000       0.7547    0.0877   \n",
      "sqft_living   -0.0123  0.7020    0.5767     0.7547       1.0000    0.1728   \n",
      "sqft_lot      -0.1321  0.0897    0.0317     0.0877       0.1728    1.0000   \n",
      "floors         0.0185  0.2568    0.1754     0.5007       0.3539   -0.0052   \n",
      "waterfront    -0.0027  0.2664   -0.0066     0.0637       0.1038    0.0216   \n",
      "view           0.0116  0.3973    0.0795     0.1877       0.2846    0.0747   \n",
      "condition     -0.0238  0.0364    0.0285    -0.1250      -0.0588   -0.0090   \n",
      "grade          0.0081  0.6674    0.3570     0.6650       0.7627    0.1136   \n",
      "sqft_above    -0.0108  0.6056    0.4776     0.6853       0.8766    0.1835   \n",
      "sqft_basement -0.0052  0.3238    0.3031     0.2838       0.4350    0.0153   \n",
      "yr_built       0.0214  0.0540    0.1542     0.5060       0.3180    0.0531   \n",
      "yr_renovated  -0.0169  0.1264    0.0188     0.0507       0.0554    0.0076   \n",
      "zipcode       -0.0082 -0.0532   -0.1527    -0.2039      -0.1994   -0.1296   \n",
      "lat           -0.0019  0.3070   -0.0089     0.0246       0.0525   -0.0857   \n",
      "long           0.0208  0.0216    0.1295     0.2230       0.2402    0.2295   \n",
      "sqft_living15 -0.0029  0.5854    0.3916     0.5686       0.7564    0.1446   \n",
      "sqft_lot15    -0.1388  0.0824    0.0292     0.0872       0.1833    0.7186   \n",
      "\n",
      "               floors  waterfront    view  condition   grade  sqft_above  \\\n",
      "id             0.0185     -0.0027  0.0116    -0.0238  0.0081     -0.0108   \n",
      "price          0.2568      0.2664  0.3973     0.0364  0.6674      0.6056   \n",
      "bedrooms       0.1754     -0.0066  0.0795     0.0285  0.3570      0.4776   \n",
      "bathrooms      0.5007      0.0637  0.1877    -0.1250  0.6650      0.6853   \n",
      "sqft_living    0.3539      0.1038  0.2846    -0.0588  0.7627      0.8766   \n",
      "sqft_lot      -0.0052      0.0216  0.0747    -0.0090  0.1136      0.1835   \n",
      "floors         1.0000      0.0237  0.0294    -0.2638  0.4582      0.5239   \n",
      "waterfront     0.0237      1.0000  0.4019     0.0167  0.0828      0.0721   \n",
      "view           0.0294      0.4019  1.0000     0.0460  0.2513      0.1676   \n",
      "condition     -0.2638      0.0167  0.0460     1.0000 -0.1447     -0.1582   \n",
      "grade          0.4582      0.0828  0.2513    -0.1447  1.0000      0.7559   \n",
      "sqft_above     0.5239      0.0721  0.1676    -0.1582  0.7559      1.0000   \n",
      "sqft_basement -0.2457      0.0806  0.2769     0.1741  0.1684     -0.0519   \n",
      "yr_built       0.4893     -0.0262 -0.0534    -0.3614  0.4470      0.4239   \n",
      "yr_renovated   0.0063      0.0929  0.1039    -0.0606  0.0144      0.0233   \n",
      "zipcode       -0.0591      0.0303  0.0848     0.0030 -0.1849     -0.2612   \n",
      "lat            0.0496     -0.0143  0.0062    -0.0149  0.1141     -0.0008   \n",
      "long           0.1254     -0.0419 -0.0784    -0.1065  0.1984      0.3438   \n",
      "sqft_living15  0.2799      0.0865  0.2804    -0.0928  0.7132      0.7319   \n",
      "sqft_lot15    -0.0113      0.0307  0.0726    -0.0034  0.1192      0.1940   \n",
      "\n",
      "               sqft_basement  yr_built  yr_renovated  zipcode     lat    long  \\\n",
      "id                   -0.0052    0.0214       -0.0169  -0.0082 -0.0019  0.0208   \n",
      "price                 0.3238    0.0540        0.1264  -0.0532  0.3070  0.0216   \n",
      "bedrooms              0.3031    0.1542        0.0188  -0.1527 -0.0089  0.1295   \n",
      "bathrooms             0.2838    0.5060        0.0507  -0.2039  0.0246  0.2230   \n",
      "sqft_living           0.4350    0.3180        0.0554  -0.1994  0.0525  0.2402   \n",
      "sqft_lot              0.0153    0.0531        0.0076  -0.1296 -0.0857  0.2295   \n",
      "floors               -0.2457    0.4893        0.0063  -0.0591  0.0496  0.1254   \n",
      "waterfront            0.0806   -0.0262        0.0929   0.0303 -0.0143 -0.0419   \n",
      "view                  0.2769   -0.0534        0.1039   0.0848  0.0062 -0.0784   \n",
      "condition             0.1741   -0.3614       -0.0606   0.0030 -0.0149 -0.1065   \n",
      "grade                 0.1684    0.4470        0.0144  -0.1849  0.1141  0.1984   \n",
      "sqft_above           -0.0519    0.4239        0.0233  -0.2612 -0.0008  0.3438   \n",
      "sqft_basement         1.0000   -0.1331        0.0713   0.0748  0.1105 -0.1448   \n",
      "yr_built             -0.1331    1.0000       -0.2249  -0.3469 -0.1481  0.4094   \n",
      "yr_renovated          0.0713   -0.2249        1.0000   0.0644  0.0294 -0.0684   \n",
      "zipcode               0.0748   -0.3469        0.0644   1.0000  0.2670 -0.5641   \n",
      "lat                   0.1105   -0.1481        0.0294   0.2670  1.0000 -0.1355   \n",
      "long                 -0.1448    0.4094       -0.0684  -0.5641 -0.1355  1.0000   \n",
      "sqft_living15         0.2004    0.3262       -0.0027  -0.2790  0.0489  0.3346   \n",
      "sqft_lot15            0.0173    0.0710        0.0079  -0.1472 -0.0864  0.2545   \n",
      "\n",
      "               sqft_living15  sqft_lot15  \n",
      "id                   -0.0029     -0.1388  \n",
      "price                 0.5854      0.0824  \n",
      "bedrooms              0.3916      0.0292  \n",
      "bathrooms             0.5686      0.0872  \n",
      "sqft_living           0.7564      0.1833  \n",
      "sqft_lot              0.1446      0.7186  \n",
      "floors                0.2799     -0.0113  \n",
      "waterfront            0.0865      0.0307  \n",
      "view                  0.2804      0.0726  \n",
      "condition            -0.0928     -0.0034  \n",
      "grade                 0.7132      0.1192  \n",
      "sqft_above            0.7319      0.1940  \n",
      "sqft_basement         0.2004      0.0173  \n",
      "yr_built              0.3262      0.0710  \n",
      "yr_renovated         -0.0027      0.0079  \n",
      "zipcode              -0.2790     -0.1472  \n",
      "lat                   0.0489     -0.0864  \n",
      "long                  0.3346      0.2545  \n",
      "sqft_living15         1.0000      0.1832  \n",
      "sqft_lot15            0.1832      1.0000  \n"
     ]
    }
   ],
   "source": [
    "# Data Correlation\n",
    "\n",
    "corr = data.corr().round(3)\n",
    "print(corr)"
   ]
  },
  {
   "cell_type": "code",
   "execution_count": 31,
   "id": "1c40274d",
   "metadata": {},
   "outputs": [
    {
     "data": {
      "image/png": "[encoded data removed]",
      "text/plain": [
       "<Figure size 720x576 with 2 Axes>"
      ]
     },
     "metadata": {
      "needs_background": "light"
     },
     "output_type": "display_data"
    }
   ],
   "source": [
    "# Correlation Heatmap\n",
    "\n",
    "plt.figure(figsize=(10,8))\n",
    "ax = sns.heatmap(corr)"
   ]
  },
  {
   "cell_type": "code",
   "execution_count": null,
   "id": "5f84ef87",
   "metadata": {},
   "outputs": [],
   "source": []
  }
 ],
 "metadata": {
  "kernelspec": {
   "display_name": "Python 3",
   "language": "python",
   "name": "python3"
  },
  "language_info": {
   "codemirror_mode": {
    "name": "ipython",
    "version": 3
   },
   "file_extension": ".py",
   "mimetype": "text/x-python",
   "name": "python",
   "nbconvert_exporter": "python",
   "pygments_lexer": "ipython3",
   "version": "3.8.8"
  }
 },
 "nbformat": 4,
 "nbformat_minor": 5
}
