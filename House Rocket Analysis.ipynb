{
 "cells": [
  {
   "cell_type": "code",
   "execution_count": 1,
   "id": "0f9246c8",
   "metadata": {},
   "outputs": [],
   "source": [
    "# Import Libraries\n",
    "\n",
    "import pandas as pd\n",
    "import numpy as np\n",
    "import matplotlib.pyplot as plt\n",
    "import seaborn as sns"
   ]
  },
  {
   "cell_type": "code",
   "execution_count": 2,
   "id": "c16f0fca",
   "metadata": {},
   "outputs": [],
   "source": [
    "# Import Dataset\n",
    "\n",
    "data = pd.read_csv(\"C:/PythonFund/Cap08/Notebooks/kc_house_data.csv\")"
   ]
  },
  {
   "cell_type": "code",
   "execution_count": 3,
   "id": "e6c28392",
   "metadata": {},
   "outputs": [
    {
     "name": "stdout",
     "output_type": "stream",
     "text": [
      "(21613, 21)\n"
     ]
    }
   ],
   "source": [
    "# show the number of rows and columns in dataset\n",
    "\n",
    "print(data.shape)"
   ]
  },
  {
   "cell_type": "code",
   "execution_count": 4,
   "id": "910c7f1c",
   "metadata": {
    "scrolled": false
   },
   "outputs": [
    {
     "name": "stdout",
     "output_type": "stream",
     "text": [
      "Index(['id', 'date', 'price', 'bedrooms', 'bathrooms', 'sqft_living',\n",
      "       'sqft_lot', 'floors', 'waterfront', 'view', 'condition', 'grade',\n",
      "       'sqft_above', 'sqft_basement', 'yr_built', 'yr_renovated', 'zipcode',\n",
      "       'lat', 'long', 'sqft_living15', 'sqft_lot15'],\n",
      "      dtype='object')\n"
     ]
    }
   ],
   "source": [
    "# show the name of columns of dataset\n",
    "\n",
    "print(data.columns)"
   ]
  },
  {
   "cell_type": "code",
   "execution_count": 5,
   "id": "3aa69253",
   "metadata": {},
   "outputs": [
    {
     "name": "stdout",
     "output_type": "stream",
     "text": [
      "           id             date     price  bedrooms  bathrooms  sqft_living  \\\n",
      "0  7129300520  20141013T000000  221900.0         3       1.00         1180   \n",
      "1  6414100192  20141209T000000  538000.0         3       2.25         2570   \n",
      "2  5631500400  20150225T000000  180000.0         2       1.00          770   \n",
      "3  2487200875  20141209T000000  604000.0         4       3.00         1960   \n",
      "4  1954400510  20150218T000000  510000.0         3       2.00         1680   \n",
      "\n",
      "   sqft_lot  floors  waterfront  view  ...  grade  sqft_above  sqft_basement  \\\n",
      "0      5650     1.0           0     0  ...      7        1180              0   \n",
      "1      7242     2.0           0     0  ...      7        2170            400   \n",
      "2     10000     1.0           0     0  ...      6         770              0   \n",
      "3      5000     1.0           0     0  ...      7        1050            910   \n",
      "4      8080     1.0           0     0  ...      8        1680              0   \n",
      "\n",
      "   yr_built  yr_renovated  zipcode      lat     long  sqft_living15  \\\n",
      "0      1955             0    98178  47.5112 -122.257           1340   \n",
      "1      1951          1991    98125  47.7210 -122.319           1690   \n",
      "2      1933             0    98028  47.7379 -122.233           2720   \n",
      "3      1965             0    98136  47.5208 -122.393           1360   \n",
      "4      1987             0    98074  47.6168 -122.045           1800   \n",
      "\n",
      "   sqft_lot15  \n",
      "0        5650  \n",
      "1        7639  \n",
      "2        8062  \n",
      "3        5000  \n",
      "4        7503  \n",
      "\n",
      "[5 rows x 21 columns]\n"
     ]
    }
   ],
   "source": [
    "# show the first 5 lines of dataset\n",
    "\n",
    "print(data.head())"
   ]
  },
  {
   "cell_type": "code",
   "execution_count": 6,
   "id": "19aa6688",
   "metadata": {},
   "outputs": [
    {
     "name": "stdout",
     "output_type": "stream",
     "text": [
      "Mean: R$ 540088.14  Min: R$ 75000.0  Max: R$ 7700000.0  Std: R$ 367127.2\n"
     ]
    }
   ],
   "source": [
    "# Some basics statistics\n",
    "\n",
    "mean_price = round(data['price'].mean(),2)\n",
    "min_price = round(data['price'].min(),2)\n",
    "max_price = round(data['price'].max(),2)\n",
    "std_price = round(data['price'].std(),2)\n",
    "\n",
    "print(f'Mean: R$ {mean_price}  Min: R$ {min_price}  Max: R$ {max_price}  Std: R$ {std_price}')"
   ]
  },
  {
   "cell_type": "code",
   "execution_count": 7,
   "id": "980895c2",
   "metadata": {},
   "outputs": [
    {
     "data": {
      "text/plain": [
       "count    2.161300e+04\n",
       "mean     5.400881e+05\n",
       "std      3.671272e+05\n",
       "min      7.500000e+04\n",
       "25%      3.219500e+05\n",
       "50%      4.500000e+05\n",
       "75%      6.450000e+05\n",
       "max      7.700000e+06\n",
       "Name: price, dtype: float64"
      ]
     },
     "execution_count": 7,
     "metadata": {},
     "output_type": "execute_result"
    }
   ],
   "source": [
    "# Main statistics description\n",
    "\n",
    "data['price'].describe()"
   ]
  },
  {
   "cell_type": "code",
   "execution_count": 8,
   "id": "4bbaca43",
   "metadata": {},
   "outputs": [
    {
     "name": "stdout",
     "output_type": "stream",
     "text": [
      "               id      price\n",
      "7252   6762700020  7700000.0\n",
      "3914   9808700762  7062500.0\n",
      "9254   9208900037  6885000.0\n",
      "4411   2470100110  5570000.0\n",
      "1448   8907500070  5350000.0\n",
      "...           ...        ...\n",
      "8274   3883800011    82000.0\n",
      "16198  3028200080    81000.0\n",
      "465    8658300340    80000.0\n",
      "15293    40000362    78000.0\n",
      "1149   3421079032    75000.0\n",
      "\n",
      "[21613 rows x 2 columns]\n"
     ]
    }
   ],
   "source": [
    "# sort the dataset by the price column in descending order\n",
    "\n",
    "print(data[['id','price']].sort_values('price', ascending=False))"
   ]
  },
  {
   "cell_type": "code",
   "execution_count": 9,
   "id": "6e093da8",
   "metadata": {
    "scrolled": true
   },
   "outputs": [
    {
     "name": "stdout",
     "output_type": "stream",
     "text": [
      "               id  bedrooms\n",
      "15870  2402100895        33\n",
      "8757   1773100755        11\n",
      "15161  5566100170        10\n",
      "13314   627300145        10\n",
      "19254  8812401450        10\n",
      "...           ...       ...\n",
      "19452  3980300371         0\n",
      "8484   2310060040         0\n",
      "875    6306400140         0\n",
      "8477   2569500210         0\n",
      "9773   3374500520         0\n",
      "\n",
      "[21613 rows x 2 columns]\n"
     ]
    }
   ],
   "source": [
    "# Sort the dataset by the bedrooms column in descending order\n",
    "\n",
    "print(data[['id','bedrooms']].sort_values('bedrooms', ascending=False))"
   ]
  },
  {
   "cell_type": "code",
   "execution_count": 10,
   "id": "bc68a8ae",
   "metadata": {},
   "outputs": [
    {
     "name": "stdout",
     "output_type": "stream",
     "text": [
      "292.0\n"
     ]
    }
   ],
   "source": [
    "# Average size of all houses\n",
    "\n",
    "mean_size = round(data['sqft_basement'].mean(),0)\n",
    "print(mean_size)"
   ]
  },
  {
   "cell_type": "code",
   "execution_count": 27,
   "id": "02a1d567",
   "metadata": {},
   "outputs": [
    {
     "data": {
      "text/plain": [
       "3     9824\n",
       "4     6882\n",
       "2     2760\n",
       "5     1601\n",
       "6      272\n",
       "1      199\n",
       "7       38\n",
       "0       13\n",
       "8       13\n",
       "9        6\n",
       "10       3\n",
       "33       1\n",
       "11       1\n",
       "Name: bedrooms, dtype: int64"
      ]
     },
     "execution_count": 27,
     "metadata": {},
     "output_type": "execute_result"
    }
   ],
   "source": [
    "# How many houses have how many bedrooms\n",
    "data['bedrooms'].value_counts()"
   ]
  },
  {
   "cell_type": "code",
   "execution_count": 30,
   "id": "bbc4144b",
   "metadata": {
    "scrolled": false
   },
   "outputs": [
    {
     "name": "stdout",
     "output_type": "stream",
     "text": [
      "2760\n"
     ]
    }
   ],
   "source": [
    "# How many houses have 2 bedrooms\n",
    "two_bed = data.loc[data['bedrooms']==2]\n",
    "print(two_bed['bedrooms'].count())"
   ]
  },
  {
   "cell_type": "code",
   "execution_count": 40,
   "id": "4084fd7c",
   "metadata": {
    "scrolled": true
   },
   "outputs": [
    {
     "name": "stdout",
     "output_type": "stream",
     "text": [
      "401372.68\n"
     ]
    }
   ],
   "source": [
    "two_bed = data.loc[data['bedrooms']==2]\n",
    "print(round(two_bed['price'].mean(),2))"
   ]
  },
  {
   "cell_type": "code",
   "execution_count": 39,
   "id": "1c3b0fb7",
   "metadata": {},
   "outputs": [
    {
     "data": {
      "text/plain": [
       "count    2.760000e+03\n",
       "mean     4.013727e+05\n",
       "std      1.980518e+05\n",
       "min      7.800000e+04\n",
       "25%      2.698375e+05\n",
       "50%      3.740000e+05\n",
       "75%      4.900000e+05\n",
       "max      3.278000e+06\n",
       "Name: price, dtype: float64"
      ]
     },
     "execution_count": 39,
     "metadata": {},
     "output_type": "execute_result"
    }
   ],
   "source": [
    "two_bed['price'].describe()"
   ]
  },
  {
   "cell_type": "code",
   "execution_count": null,
   "id": "894b5b0d",
   "metadata": {},
   "outputs": [],
   "source": [
    "# Two bedrooms houses average price\n",
    "mean_size = round(data['sqft_basement'].mean(),0)\n",
    "print(mean_size)"
   ]
  },
  {
   "cell_type": "code",
   "execution_count": 12,
   "id": "8309b78e",
   "metadata": {
    "scrolled": true
   },
   "outputs": [
    {
     "name": "stdout",
     "output_type": "stream",
     "text": [
      "                  id  price  bedrooms  bathrooms  sqft_living  sqft_lot  \\\n",
      "id             1.000 -0.017     0.001      0.005       -0.012    -0.132   \n",
      "price         -0.017  1.000     0.308      0.525        0.702     0.090   \n",
      "bedrooms       0.001  0.308     1.000      0.516        0.577     0.032   \n",
      "bathrooms      0.005  0.525     0.516      1.000        0.755     0.088   \n",
      "sqft_living   -0.012  0.702     0.577      0.755        1.000     0.173   \n",
      "sqft_lot      -0.132  0.090     0.032      0.088        0.173     1.000   \n",
      "floors         0.019  0.257     0.175      0.501        0.354    -0.005   \n",
      "waterfront    -0.003  0.266    -0.007      0.064        0.104     0.022   \n",
      "view           0.012  0.397     0.080      0.188        0.285     0.075   \n",
      "condition     -0.024  0.036     0.028     -0.125       -0.059    -0.009   \n",
      "grade          0.008  0.667     0.357      0.665        0.763     0.114   \n",
      "sqft_above    -0.011  0.606     0.478      0.685        0.877     0.184   \n",
      "sqft_basement -0.005  0.324     0.303      0.284        0.435     0.015   \n",
      "yr_built       0.021  0.054     0.154      0.506        0.318     0.053   \n",
      "yr_renovated  -0.017  0.126     0.019      0.051        0.055     0.008   \n",
      "zipcode       -0.008 -0.053    -0.153     -0.204       -0.199    -0.130   \n",
      "lat           -0.002  0.307    -0.009      0.025        0.053    -0.086   \n",
      "long           0.021  0.022     0.129      0.223        0.240     0.230   \n",
      "sqft_living15 -0.003  0.585     0.392      0.569        0.756     0.145   \n",
      "sqft_lot15    -0.139  0.082     0.029      0.087        0.183     0.719   \n",
      "\n",
      "               floors  waterfront   view  condition  grade  sqft_above  \\\n",
      "id              0.019      -0.003  0.012     -0.024  0.008      -0.011   \n",
      "price           0.257       0.266  0.397      0.036  0.667       0.606   \n",
      "bedrooms        0.175      -0.007  0.080      0.028  0.357       0.478   \n",
      "bathrooms       0.501       0.064  0.188     -0.125  0.665       0.685   \n",
      "sqft_living     0.354       0.104  0.285     -0.059  0.763       0.877   \n",
      "sqft_lot       -0.005       0.022  0.075     -0.009  0.114       0.184   \n",
      "floors          1.000       0.024  0.029     -0.264  0.458       0.524   \n",
      "waterfront      0.024       1.000  0.402      0.017  0.083       0.072   \n",
      "view            0.029       0.402  1.000      0.046  0.251       0.168   \n",
      "condition      -0.264       0.017  0.046      1.000 -0.145      -0.158   \n",
      "grade           0.458       0.083  0.251     -0.145  1.000       0.756   \n",
      "sqft_above      0.524       0.072  0.168     -0.158  0.756       1.000   \n",
      "sqft_basement  -0.246       0.081  0.277      0.174  0.168      -0.052   \n",
      "yr_built        0.489      -0.026 -0.053     -0.361  0.447       0.424   \n",
      "yr_renovated    0.006       0.093  0.104     -0.061  0.014       0.023   \n",
      "zipcode        -0.059       0.030  0.085      0.003 -0.185      -0.261   \n",
      "lat             0.050      -0.014  0.006     -0.015  0.114      -0.001   \n",
      "long            0.125      -0.042 -0.078     -0.107  0.198       0.344   \n",
      "sqft_living15   0.280       0.086  0.280     -0.093  0.713       0.732   \n",
      "sqft_lot15     -0.011       0.031  0.073     -0.003  0.119       0.194   \n",
      "\n",
      "               sqft_basement  yr_built  yr_renovated  zipcode    lat   long  \\\n",
      "id                    -0.005     0.021        -0.017   -0.008 -0.002  0.021   \n",
      "price                  0.324     0.054         0.126   -0.053  0.307  0.022   \n",
      "bedrooms               0.303     0.154         0.019   -0.153 -0.009  0.129   \n",
      "bathrooms              0.284     0.506         0.051   -0.204  0.025  0.223   \n",
      "sqft_living            0.435     0.318         0.055   -0.199  0.053  0.240   \n",
      "sqft_lot               0.015     0.053         0.008   -0.130 -0.086  0.230   \n",
      "floors                -0.246     0.489         0.006   -0.059  0.050  0.125   \n",
      "waterfront             0.081    -0.026         0.093    0.030 -0.014 -0.042   \n",
      "view                   0.277    -0.053         0.104    0.085  0.006 -0.078   \n",
      "condition              0.174    -0.361        -0.061    0.003 -0.015 -0.107   \n",
      "grade                  0.168     0.447         0.014   -0.185  0.114  0.198   \n",
      "sqft_above            -0.052     0.424         0.023   -0.261 -0.001  0.344   \n",
      "sqft_basement          1.000    -0.133         0.071    0.075  0.111 -0.145   \n",
      "yr_built              -0.133     1.000        -0.225   -0.347 -0.148  0.409   \n",
      "yr_renovated           0.071    -0.225         1.000    0.064  0.029 -0.068   \n",
      "zipcode                0.075    -0.347         0.064    1.000  0.267 -0.564   \n",
      "lat                    0.111    -0.148         0.029    0.267  1.000 -0.136   \n",
      "long                  -0.145     0.409        -0.068   -0.564 -0.136  1.000   \n",
      "sqft_living15          0.200     0.326        -0.003   -0.279  0.049  0.335   \n",
      "sqft_lot15             0.017     0.071         0.008   -0.147 -0.086  0.254   \n",
      "\n",
      "               sqft_living15  sqft_lot15  \n",
      "id                    -0.003      -0.139  \n",
      "price                  0.585       0.082  \n",
      "bedrooms               0.392       0.029  \n",
      "bathrooms              0.569       0.087  \n",
      "sqft_living            0.756       0.183  \n",
      "sqft_lot               0.145       0.719  \n",
      "floors                 0.280      -0.011  \n",
      "waterfront             0.086       0.031  \n",
      "view                   0.280       0.073  \n",
      "condition             -0.093      -0.003  \n",
      "grade                  0.713       0.119  \n",
      "sqft_above             0.732       0.194  \n",
      "sqft_basement          0.200       0.017  \n",
      "yr_built               0.326       0.071  \n",
      "yr_renovated          -0.003       0.008  \n",
      "zipcode               -0.279      -0.147  \n",
      "lat                    0.049      -0.086  \n",
      "long                   0.335       0.254  \n",
      "sqft_living15          1.000       0.183  \n",
      "sqft_lot15             0.183       1.000  \n"
     ]
    }
   ],
   "source": [
    "# Data Correlation\n",
    "\n",
    "corr = data.corr().round(3)\n",
    "print(corr)"
   ]
  },
  {
   "cell_type": "code",
   "execution_count": 13,
   "id": "1c40274d",
   "metadata": {},
   "outputs": [
    {
     "data": {
      "image/png": "[encoded data removed]",
      "text/plain": [
       "<Figure size 720x576 with 2 Axes>"
      ]
     },
     "metadata": {
      "needs_background": "light"
     },
     "output_type": "display_data"
    }
   ],
   "source": [
    "# Correlation Heatmap\n",
    "\n",
    "plt.figure(figsize=(10,8))\n",
    "ax = sns.heatmap(corr)"
   ]
  },
  {
   "cell_type": "code",
   "execution_count": null,
   "id": "5f84ef87",
   "metadata": {},
   "outputs": [],
   "source": []
  }
 ],
 "metadata": {
  "kernelspec": {
   "display_name": "Python 3",
   "language": "python",
   "name": "python3"
  },
  "language_info": {
   "codemirror_mode": {
    "name": "ipython",
    "version": 3
   },
   "file_extension": ".py",
   "mimetype": "text/x-python",
   "name": "python",
   "nbconvert_exporter": "python",
   "pygments_lexer": "ipython3",
   "version": "3.8.8"
  }
 },
 "nbformat": 4,
 "nbformat_minor": 5
}
